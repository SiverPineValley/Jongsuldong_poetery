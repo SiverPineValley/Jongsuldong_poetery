{
 "cells": [
  {
   "cell_type": "code",
   "execution_count": 12,
   "metadata": {},
   "outputs": [],
   "source": [
    "from test import Test"
   ]
  },
  {
   "cell_type": "code",
   "execution_count": 28,
   "metadata": {},
   "outputs": [],
   "source": [
    "lyrical = Test(prime = \"연필\", atom = 0, length = 400)\n",
    "love = Test(prime = \"손경아\", atom = 1, length = 400)\n",
    "humorous = Test(prime = \"손경아\", atom = 2, length = 400)"
   ]
  },
  {
   "cell_type": "code",
   "execution_count": 29,
   "metadata": {},
   "outputs": [],
   "source": [
    "text_lyrical = lyrical.run()\n",
    "text_love = love.run()\n",
    "text_humorous = humorous.run()"
   ]
  },
  {
   "cell_type": "code",
   "execution_count": 30,
   "metadata": {
    "scrolled": false
   },
   "outputs": [
    {
     "name": "stdout",
     "output_type": "stream",
     "text": [
      "연필로 살아도 좋다 \n",
      "\n",
      "이 세상 어디 있을까 \n",
      "하루 한 번 사이에 \n",
      "알 수 없는 미대에 \n",
      "비록 내 몸이 이제 \n",
      "비록 난 채 \n",
      "그 하나 찾아와 무심히 무심이 \n",
      "내 안에 있는 이 있어 \n",
      "그런 사람 \n",
      "그 사람 이름은 잊었지만\n",
      "그 누구를 원망하던 그 사나이가 미워져 넘쳐서 당신의 자태에서 \n",
      "저 멀리 기러기를 바라는 마음 \n",
      "\n",
      "그리움 \n",
      "새봄 \n",
      "부디 \n",
      "살아있는 이 있습니다 \n",
      "\n",
      "영전(靈前)에 다가섭니다 \n",
      "\n",
      "누구나 그 사나이가 미워져 그리워하는 \n",
      "그 그루의 나이를 놓고 \n",
      "이토록 거주를 찾고 \n",
      "산수십이 흐른다 \n",
      "\n",
      "바람이 불고 가까이 있다 \n",
      "\n",
      "시대에 밀리는 대로 \n",
      "시집에 게나 \n",
      "꿈이 아니라 \n",
      "그렇다고 \n",
      "바람이 부는 것이 있다면 \n",
      "그저 취해만 있지 \n",
      "\n"
     ]
    }
   ],
   "source": [
    "print(text_lyrical)"
   ]
  },
  {
   "cell_type": "code",
   "execution_count": 31,
   "metadata": {},
   "outputs": [
    {
     "name": "stdout",
     "output_type": "stream",
     "text": [
      "손경아 주시며 \n",
      "\n",
      "그 사랑의 흔적만으로 \n",
      "당신의 마음에 \n",
      "슬며시 마음이 하나 있던 \n",
      "그리움이 피고 \n",
      "그리움이 있는 사람들은 \n",
      "그 나의 존재마립 것은 \n",
      "그 많은 시간을 \n",
      "닮아 와 후에 \n",
      "사랑을 태우는 아침 \n",
      "그날이 오지 않을래 \n",
      "사랑하는 당신이여 \n",
      "그래서 아름다운 날에요 \n",
      "꽃의 생각으로 \n",
      "마음 전을 수 있는 \n",
      "마음 속의 \n",
      "\n",
      "그 마음이 되고 \n",
      "가슴 이 깊은 곳에는 \n",
      "내 마음 속에 함박눈 못하는 것 \n",
      "이웃 같은 시간 \n",
      "사랑하는 사람들 \n",
      "한 잔의 시간을 이루기에 \n",
      "\n"
     ]
    }
   ],
   "source": [
    "print(text_love)"
   ]
  },
  {
   "cell_type": "code",
   "execution_count": 32,
   "metadata": {},
   "outputs": [
    {
     "name": "stdout",
     "output_type": "stream",
     "text": [
      "손경아이 잡고 간\n",
      "나에게 꼭 맞는\n",
      "나영이네 집을 내앉고\n",
      "나도 안 보았던\n",
      "내 주위에 이성들 중\n",
      "중얼락\n",
      "나는 오늘도 버스를 타고 먼지의 도시로 간다\n",
      "나는 오늘도\n",
      "버스를 타고 \n",
      "먼지의 맛도,\n",
      "바다의 맛도 아닌\n",
      "조금은 외롭고 쓸쓸한 이름이 있어 우린\n",
      "번데기란 이름이 있어 우린\n",
      "번데기란 이름이 있어 우린\n",
      "번데기란 이름이 있어 우린\n",
      "번데기란 이름이 있어 우린\n",
      "번데기란 이름이 있어 우린\n",
      "번데기란 이름이 있어 우린\n",
      "번데기란 이름이 있어 우린\n",
      "번데기란 이름이 있어 우린\n",
      "번데기란 이름이 있어 우린\n",
      "번데기란 이름이 있어 우린\n",
      "번데기란 이름이 있어 우린\n",
      "번데기란 이름이 있어 우린\n",
      "번데기란 이름이 있어 우린\n",
      "번데기란 이름이 있어 우린\n",
      "번데기란 이름이 있어 우린\n",
      "번데기란 이름이 있어 우린\n",
      "번데기란 이름이 있어 우린\n",
      "번데기란 이름이 있어 \n",
      "\n"
     ]
    }
   ],
   "source": [
    "print(text_humorous)"
   ]
  },
  {
   "cell_type": "code",
   "execution_count": null,
   "metadata": {},
   "outputs": [],
   "source": []
  }
 ],
 "metadata": {
  "kernelspec": {
   "display_name": "my_kernel",
   "language": "python",
   "name": "my_kernel"
  },
  "language_info": {
   "codemirror_mode": {
    "name": "ipython",
    "version": 3
   },
   "file_extension": ".py",
   "mimetype": "text/x-python",
   "name": "python",
   "nbconvert_exporter": "python",
   "pygments_lexer": "ipython3",
   "version": "3.6.4"
  }
 },
 "nbformat": 4,
 "nbformat_minor": 2
}
